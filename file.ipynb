{
 "cells": [
  {
   "cell_type": "markdown",
   "metadata": {},
   "source": [
    "В некотором городе прошла олимпиада для школьников 9-11 классов по информатике. Необходим реализовать функцию для выявления победителя из 9-ого, 10-ого и 11-ого классов со всего города. \n",
    "\n",
    "\n",
    "Входные данные\n",
    "\n",
    "На вход подается файл schools.txt, каждая строка которого содержит следующие данные:\n",
    "\n",
    "фамилия имя школа класс балл\n",
    "\n",
    "Фамилия и имя - текстовые строки, школа - целое число от 1 до 99, класс -  целое число от 9 до 11, балл - целое число от 0 до 100.\n",
    "\n",
    "\n",
    "Выходные данные\n",
    "\n",
    "Выведите ответ на задачу в формате:\n",
    "\n",
    "имя фамилия класс балл\n",
    "\n",
    "\n",
    "Пример\n",
    "\n",
    "\n",
    "Входные данные\n",
    "\n",
    "Иванов Сергей 14 9 56\n",
    "\n",
    "Сергеев Петр 23 9 74\n",
    "\n",
    "Петров Василий 3 10 99\n",
    "\n",
    "Васильев Андрей 3 11 56\n",
    "\n",
    "Андреев Роман 14 10 75\n",
    "\n",
    "Романов Иван 27 11 68\n",
    "\n",
    "\n",
    "Выходные данные\n",
    "\n",
    "Сеергеев Петр 9 74\n",
    "\n",
    "Петров Василий 10 99\n",
    "\n",
    "Романов Иван 11 68"
   ]
  },
  {
   "cell_type": "code",
   "execution_count": 34,
   "metadata": {},
   "outputs": [],
   "source": [
    "with open(\"schools.txt\", \"r\", encoding=\"utf-8\") as f:\n",
    "    text = f.readlines()\n",
    "    students = list(map(lambda x: x.split(), text))\n",
    "    max_9, max_10, max_11 = 0, 0, 0\n",
    "    for i in students:\n",
    "        if int(i[4]) > max_9 and int(i[3]) == 9:\n",
    "            max_9 = int(i[4])\n",
    "            output_of_9 = \" \".join([i[0], i[1], i[3], i[4]])\n",
    "        elif int(i[4]) > max_10 and int(i[3]) == 10:\n",
    "            max_10 = int(i[4])\n",
    "            output_of_10 = \" \".join([i[0], i[1], i[3], i[4]])\n",
    "        elif int(i[4]) > max_11 and int(i[3]) == 11:\n",
    "            max_11 = int(i[4])\n",
    "            output_of_11 = \" \".join([i[0], i[1], i[3], i[4]])\n",
    "    output = [output_of_9 + '\\n', output_of_10 + '\\n', output_of_11 + '\\n']"
   ]
  },
  {
   "cell_type": "code",
   "execution_count": 35,
   "metadata": {},
   "outputs": [],
   "source": [
    "with open(\"output.txt\", \"w\", encoding=\"utf-8\") as f:\n",
    "    f.writelines(output)"
   ]
  }
 ],
 "metadata": {
  "kernelspec": {
   "display_name": "Python 3",
   "language": "python",
   "name": "python3"
  },
  "language_info": {
   "codemirror_mode": {
    "name": "ipython",
    "version": 3
   },
   "file_extension": ".py",
   "mimetype": "text/x-python",
   "name": "python",
   "nbconvert_exporter": "python",
   "pygments_lexer": "ipython3",
   "version": "3.11.5"
  }
 },
 "nbformat": 4,
 "nbformat_minor": 2
}
