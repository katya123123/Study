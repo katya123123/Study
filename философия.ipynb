{
 "cells": [
  {
   "cell_type": "markdown",
   "metadata": {},
   "source": [
    "# Философия"
   ]
  },
  {
   "cell_type": "markdown",
   "metadata": {},
   "source": [
    "Философия - квинтессенция культуры \n",
    "\n",
    "Философия - форма общественного сознания\n",
    "\n",
    "Филистер - простолюдин. Для него идеалист - мечтатель, а материалист - развратник и обжора. \n",
    "\n"
   ]
  }
 ],
 "metadata": {
  "language_info": {
   "name": "python"
  },
  "orig_nbformat": 4
 },
 "nbformat": 4,
 "nbformat_minor": 2
}
