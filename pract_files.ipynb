{
 "cells": [
  {
   "cell_type": "markdown",
   "metadata": {},
   "source": [
    "# Работа с файлами"
   ]
  },
  {
   "cell_type": "markdown",
   "metadata": {},
   "source": [
    "### Открытие и закрытие файла"
   ]
  },
  {
   "cell_type": "code",
   "execution_count": 30,
   "metadata": {},
   "outputs": [
    {
     "name": "stdout",
     "output_type": "stream",
     "text": [
      "<_io.TextIOWrapper name='file.txt' mode='r' encoding='cp1251'>\n"
     ]
    }
   ],
   "source": [
    "newFile = open(\"file.txt\", \"r\")\n",
    "print(newFile)\n",
    "\n",
    "newFile.close()"
   ]
  },
  {
   "cell_type": "code",
   "execution_count": 31,
   "metadata": {},
   "outputs": [
    {
     "name": "stdout",
     "output_type": "stream",
     "text": [
      "<_io.TextIOWrapper name='file.txt' mode='r' encoding='cp1251'>\n"
     ]
    }
   ],
   "source": [
    "try:\n",
    "    newFileEx = open(\"file.txt\", \"r\")\n",
    "    try:\n",
    "        newFileEx.read()\n",
    "    except Exception as e:\n",
    "        print(e)\n",
    "    finally:\n",
    "        newFileEx.close()\n",
    "except Exception as ex:\n",
    "    print(ex)\n",
    "\n",
    "print(newFileEx)"
   ]
  },
  {
   "cell_type": "code",
   "execution_count": 32,
   "metadata": {},
   "outputs": [
    {
     "name": "stdout",
     "output_type": "stream",
     "text": [
      "<_io.TextIOWrapper name='file.txt' mode='r' encoding='cp1251'>\n"
     ]
    }
   ],
   "source": [
    "with open(\"file.txt\", \"r\") as newFileStream:\n",
    "    newFileStream.read()\n",
    "\n",
    "print(newFileStream)"
   ]
  },
  {
   "cell_type": "code",
   "execution_count": 33,
   "metadata": {},
   "outputs": [
    {
     "ename": "FileNotFoundError",
     "evalue": "[Errno 2] No such file or directory: 'notfound.txt'",
     "output_type": "error",
     "traceback": [
      "\u001b[1;31m---------------------------------------------------------------------------\u001b[0m",
      "\u001b[1;31mFileNotFoundError\u001b[0m                         Traceback (most recent call last)",
      "\u001b[1;32mc:\\Users\\katyk\\code\\pract_files.ipynb Cell 6\u001b[0m line \u001b[0;36m2\n\u001b[0;32m      <a href='vscode-notebook-cell:/c%3A/Users/katyk/code/pract_files.ipynb#W3sZmlsZQ%3D%3D?line=0'>1</a>\u001b[0m \u001b[39m#Пытаемся открыть не существующий не через with\u001b[39;00m\n\u001b[1;32m----> <a href='vscode-notebook-cell:/c%3A/Users/katyk/code/pract_files.ipynb#W3sZmlsZQ%3D%3D?line=1'>2</a>\u001b[0m newFileForRead \u001b[39m=\u001b[39m \u001b[39mopen\u001b[39;49m(\u001b[39m\"\u001b[39;49m\u001b[39mnotfound.txt\u001b[39;49m\u001b[39m\"\u001b[39;49m, \u001b[39m\"\u001b[39;49m\u001b[39mr\u001b[39;49m\u001b[39m\"\u001b[39;49m)\n",
      "File \u001b[1;32m~\\AppData\\Roaming\\Python\\Python311\\site-packages\\IPython\\core\\interactiveshell.py:286\u001b[0m, in \u001b[0;36m_modified_open\u001b[1;34m(file, *args, **kwargs)\u001b[0m\n\u001b[0;32m    279\u001b[0m \u001b[39mif\u001b[39;00m file \u001b[39min\u001b[39;00m {\u001b[39m0\u001b[39m, \u001b[39m1\u001b[39m, \u001b[39m2\u001b[39m}:\n\u001b[0;32m    280\u001b[0m     \u001b[39mraise\u001b[39;00m \u001b[39mValueError\u001b[39;00m(\n\u001b[0;32m    281\u001b[0m         \u001b[39mf\u001b[39m\u001b[39m\"\u001b[39m\u001b[39mIPython won\u001b[39m\u001b[39m'\u001b[39m\u001b[39mt let you open fd=\u001b[39m\u001b[39m{\u001b[39;00mfile\u001b[39m}\u001b[39;00m\u001b[39m by default \u001b[39m\u001b[39m\"\u001b[39m\n\u001b[0;32m    282\u001b[0m         \u001b[39m\"\u001b[39m\u001b[39mas it is likely to crash IPython. If you know what you are doing, \u001b[39m\u001b[39m\"\u001b[39m\n\u001b[0;32m    283\u001b[0m         \u001b[39m\"\u001b[39m\u001b[39myou can use builtins\u001b[39m\u001b[39m'\u001b[39m\u001b[39m open.\u001b[39m\u001b[39m\"\u001b[39m\n\u001b[0;32m    284\u001b[0m     )\n\u001b[1;32m--> 286\u001b[0m \u001b[39mreturn\u001b[39;00m io_open(file, \u001b[39m*\u001b[39;49margs, \u001b[39m*\u001b[39;49m\u001b[39m*\u001b[39;49mkwargs)\n",
      "\u001b[1;31mFileNotFoundError\u001b[0m: [Errno 2] No such file or directory: 'notfound.txt'"
     ]
    }
   ],
   "source": [
    "#Пытаемся открыть не существующий не через with\n",
    "newFileForRead = open(\"notfound.txt\", \"r\")"
   ]
  },
  {
   "cell_type": "code",
   "execution_count": 34,
   "metadata": {},
   "outputs": [],
   "source": [
    "#Пытаемся открыть не существующий файл с with\n",
    "with open(\"notNotFound.txt\", \"r\") as coolFile:\n",
    "    coolFile.close()"
   ]
  },
  {
   "cell_type": "markdown",
   "metadata": {},
   "source": [
    "### Запись в файл "
   ]
  },
  {
   "cell_type": "code",
   "execution_count": 35,
   "metadata": {},
   "outputs": [],
   "source": [
    "#Запись без декодинга\n",
    "newFileForWrite = open(\"notNotFound.txt\", \"w\")\n",
    "newFileForWrite.write(\"Пушкин: Капитанская дочка\")\n",
    "newFileForWrite.close()"
   ]
  },
  {
   "cell_type": "code",
   "execution_count": 36,
   "metadata": {},
   "outputs": [],
   "source": [
    "#Запись с параметром w\n",
    "with open(\"notNotFound.txt\", \"w\", encoding=\"utf-8\") as f:\n",
    "    f.write(\"Пушкин: Капитанская дочка\")"
   ]
  },
  {
   "cell_type": "code",
   "execution_count": 37,
   "metadata": {},
   "outputs": [],
   "source": [
    "#Запись с параметром a\n",
    "with open(\"notNotFound.txt\", \"a\", encoding=\"utf-8\") as f:\n",
    "    f.write(\"Достоевский: Идиот\")"
   ]
  },
  {
   "cell_type": "code",
   "execution_count": 38,
   "metadata": {},
   "outputs": [],
   "source": [
    "#Запись в новую строку\n",
    "with open(\"notNotFound.txt\", \"a\", encoding=\"utf-8\") as f:\n",
    "    f.write(\"\\nТолстой: Война и мир\")"
   ]
  },
  {
   "cell_type": "code",
   "execution_count": 41,
   "metadata": {},
   "outputs": [],
   "source": [
    "#Запись массива в файл\n",
    "authors = [\"\\nОнегин\", \"\\nГрибоедов\"]\n",
    "\n",
    "with open(\"notNotFound.txt\", \"a\", encoding=\"utf-8\") as f:\n",
    "    f.writelines(authors)\n"
   ]
  },
  {
   "cell_type": "markdown",
   "metadata": {},
   "source": [
    "### Чтение данных из файла"
   ]
  },
  {
   "cell_type": "code",
   "execution_count": 46,
   "metadata": {},
   "outputs": [
    {
     "name": "stdout",
     "output_type": "stream",
     "text": [
      "Толстой: Война и мир\n",
      "Достоевский: Идиот, Преступление и наказание\n",
      "Чехов: Вишневый сад\n",
      "Булгаков: Собачье сердце, Мастер и Маргарита\n",
      "Пушкин: Каптинская дочка, Золотая рыбка\n",
      "Гоголь: Мертвые души\n",
      "Тургенев: Муму, Отцы и дети\n",
      "\n",
      "['Т', 'о', 'л', 'с', 'т', 'о', 'й', ':', ' ', 'В', 'о', 'й', 'н', 'а', ' ', 'и', ' ', 'м', 'и', 'р', '\\n', 'Д', 'о', 'с', 'т', 'о', 'е', 'в', 'с', 'к', 'и', 'й', ':', ' ', 'И', 'д', 'и', 'о', 'т', ',', ' ', 'П', 'р', 'е', 'с', 'т', 'у', 'п', 'л', 'е', 'н', 'и', 'е', ' ', 'и', ' ', 'н', 'а', 'к', 'а', 'з', 'а', 'н', 'и', 'е', '\\n', 'Ч', 'е', 'х', 'о', 'в', ':', ' ', 'В', 'и', 'ш', 'н', 'е', 'в', 'ы', 'й', ' ', 'с', 'а', 'д', '\\n', 'Б', 'у', 'л', 'г', 'а', 'к', 'о', 'в', ':', ' ', 'С', 'о', 'б', 'а', 'ч', 'ь', 'е', ' ', 'с', 'е', 'р', 'д', 'ц', 'е', ',', ' ', 'М', 'а', 'с', 'т', 'е', 'р', ' ', 'и', ' ', 'М', 'а', 'р', 'г', 'а', 'р', 'и', 'т', 'а', '\\n', 'П', 'у', 'ш', 'к', 'и', 'н', ':', ' ', 'К', 'а', 'п', 'т', 'и', 'н', 'с', 'к', 'а', 'я', ' ', 'д', 'о', 'ч', 'к', 'а', ',', ' ', 'З', 'о', 'л', 'о', 'т', 'а', 'я', ' ', 'р', 'ы', 'б', 'к', 'а', '\\n', 'Г', 'о', 'г', 'о', 'л', 'ь', ':', ' ', 'М', 'е', 'р', 'т', 'в', 'ы', 'е', ' ', 'д', 'у', 'ш', 'и', '\\n', 'Т', 'у', 'р', 'г', 'е', 'н', 'е', 'в', ':', ' ', 'М', 'у', 'м', 'у', ',', ' ', 'О', 'т', 'ц', 'ы', ' ', 'и', ' ', 'д', 'е', 'т', 'и', '\\n']\n",
      "['Толстой: Война и мир', 'Достоевский: Идиот, Преступление и наказание', 'Чехов: Вишневый сад', 'Булгаков: Собачье сердце, Мастер и Маргарита', 'Пушкин: Каптинская дочка, Золотая рыбка', 'Гоголь: Мертвые души', 'Тургенев: Муму, Отцы и дети', '']\n"
     ]
    }
   ],
   "source": [
    "#Считываем весь текст в одну строку\n",
    "with open(\"file.txt\", \"r\", encoding=\"utf-8\") as f:\n",
    "    fullText = f.read()\n",
    "    print(fullText)\n",
    "    print(list(fullText))\n",
    "    print(fullText.split(\"\\n\"))"
   ]
  },
  {
   "cell_type": "code",
   "execution_count": 72,
   "metadata": {},
   "outputs": [
    {
     "name": "stdout",
     "output_type": "stream",
     "text": [
      "['Толстой: Война и мир\\n', 'Достоевский: Идиот, Преступление и наказание\\n', 'Чехов: Вишневый сад\\n', 'Булгаков: Собачье сердце, Мастер и Маргарита\\n', 'Пушкин: Каптинская дочка, Золотая рыбка\\n', 'Гоголь: Мертвые души\\n', 'Тургенев: Муму, Отцы и дети\\n']\n",
      "{'Толстой': [' Война и мир\\n'], 'Достоевский': [' Идиот', ' Преступление и наказание\\n'], 'Чехов': [' Вишневый сад\\n'], 'Булгаков': [' Собачье сердце', ' Мастер и Маргарита\\n'], 'Пушкин': [' Каптинская дочка', ' Золотая рыбка\\n'], 'Гоголь': [' Мертвые души\\n'], 'Тургенев': [' Муму', ' Отцы и дети\\n']}\n"
     ]
    }
   ],
   "source": [
    "#Считываем весь текст по строкам, создаем словарь\n",
    "with open(\"file.txt\", \"r\", encoding=\"utf-8\") as f:\n",
    "    fullText = f.readlines()\n",
    "    print(fullText)\n",
    "    dict = {}\n",
    "    for i in fullText:\n",
    "        key = i.split(\":\")\n",
    "        values = key[1].split(\",\")\n",
    "        dict[key[0]] = values\n",
    "    print(dict)    "
   ]
  },
  {
   "cell_type": "code",
   "execution_count": 69,
   "metadata": {},
   "outputs": [
    {
     "name": "stdout",
     "output_type": "stream",
     "text": [
      "Толстой: Война и мир\n",
      "\n",
      "Достоевский: Идиот, Преступление и наказание\n",
      "\n",
      "Чехов: Вишневый сад\n",
      "\n",
      "Булгаков: Собачье сердце, Мастер и Маргарита\n",
      "\n",
      "Пушкин: Каптинская дочка, Золотая рыбка\n",
      "\n",
      "Гоголь: Мертвые души\n",
      "\n",
      "Тургенев: Муму, Отцы и дети\n",
      "\n",
      "45 Булгаков: Собачье сердце, Мастер и Маргарита\n",
      "\n"
     ]
    }
   ],
   "source": [
    "#Считываем строку из текста. Задача: найти самую длинную строку\n",
    "count = 0\n",
    "max = 0\n",
    "row = \"\"\n",
    "\n",
    "with open(\"file.txt\", \"r\", encoding=\"utf-8\") as f:\n",
    "\n",
    "    fullText = f.readline()\n",
    "\n",
    "    while fullText:\n",
    "        print(fullText)\n",
    "        count = len(fullText)\n",
    "        if count >= max:\n",
    "            max = count\n",
    "            row = fullText\n",
    "        fullText=f.readline()\n",
    "\n",
    "print(max, row)\n",
    "\n",
    "        "
   ]
  },
  {
   "cell_type": "markdown",
   "metadata": {},
   "source": [
    "### Файловая система"
   ]
  },
  {
   "cell_type": "code",
   "execution_count": 73,
   "metadata": {},
   "outputs": [],
   "source": [
    "import os"
   ]
  },
  {
   "cell_type": "code",
   "execution_count": 80,
   "metadata": {},
   "outputs": [
    {
     "name": "stdout",
     "output_type": "stream",
     "text": [
      "Толстой: Война и мир\n",
      "Достоевский: Идиот, Преступление и наказание\n",
      "Чехов: Вишневый сад\n",
      "Булгаков: Собачье сердце, Мастер и Маргарита\n",
      "Пушкин: Каптинская дочка, Золотая рыбка\n",
      "Гоголь: Мертвые души\n",
      "Тургенев: Муму, Отцы и дети\n"
     ]
    }
   ],
   "source": [
    "#Открываем файл, используя абсолютный путь\n",
    "path = os.getcwd()\n",
    "with open(path+\"\\\\\"+\"file.txt\", \"r\", encoding=\"utf-8\")as f:\n",
    "    text = f.read()\n",
    "    print(text)"
   ]
  },
  {
   "cell_type": "code",
   "execution_count": 95,
   "metadata": {},
   "outputs": [
    {
     "name": "stdout",
     "output_type": "stream",
     "text": [
      "['newFile.txt']\n",
      "['authors.txt']\n"
     ]
    }
   ],
   "source": [
    "#Создаем папку, используя относительный путь\n",
    "os.mkdir(\"authors\")\n",
    "\n",
    "with open(path+\"\\\\\"+\"authors\"+\"\\\\\"+\"newFile.txt\", \"w\") as f:\n",
    "    f.write(\"hello\")\n",
    "\n",
    "print(os.listdir(\"authors\"))\n",
    "\n",
    "os.rename(path+\"\\\\authors\\\\newFile.txt\", path+\"\\\\authors\\\\authors.txt\")\n",
    "\n",
    "print(os.listdir(\"authors\"))"
   ]
  },
  {
   "cell_type": "markdown",
   "metadata": {},
   "source": [
    "### Map & lambda"
   ]
  },
  {
   "cell_type": "code",
   "execution_count": 109,
   "metadata": {},
   "outputs": [
    {
     "data": {
      "text/plain": [
       "['Толстой: война и мир',\n",
       " 'Достоевский: идиот, преступление и наказание',\n",
       " 'Чехов: вишневый сад',\n",
       " 'Булгаков: собачье сердце, мастер и маргарита',\n",
       " 'Пушкин: каптинская дочка, золотая рыбка',\n",
       " 'Гоголь: мертвые души',\n",
       " 'Тургенев: муму, отцы и дети']"
      ]
     },
     "execution_count": 109,
     "metadata": {},
     "output_type": "execute_result"
    }
   ],
   "source": [
    "#Простой пример на map\n",
    "text = \"\"\n",
    "with open(\"file.txt\", \"r\", encoding='utf-8') as f:\n",
    "    text = f.read().split(\"\\n\") \n",
    "list(map(str.capitalize, text)) "
   ]
  },
  {
   "cell_type": "code",
   "execution_count": 121,
   "metadata": {},
   "outputs": [],
   "source": [
    "#Простой пример на lambda\n",
    "x = lambda a, b : a + \": \" + b\n",
    "newAuth = x(\"Лермонтов\", \"Смерть поэта\")\n",
    "\n",
    "with open(\"file.txt\", \"a\", encoding=\"utf-8\") as f:\n",
    "    f.write(\"\\n\" + newAuth)"
   ]
  },
  {
   "cell_type": "code",
   "execution_count": 131,
   "metadata": {},
   "outputs": [
    {
     "data": {
      "text/plain": [
       "[[' Война и мир'],\n",
       " [' Идиот', ' Преступление и наказание'],\n",
       " [' Вишневый сад'],\n",
       " [' Собачье сердце', ' Мастер и Маргарита'],\n",
       " [' Каптинская дочка', ' Золотая рыбка'],\n",
       " [' Мертвые души'],\n",
       " [' Муму', ' Отцы и дети']]"
      ]
     },
     "execution_count": 131,
     "metadata": {},
     "output_type": "execute_result"
    }
   ],
   "source": [
    "#Простой пример на lambda\n",
    "beautifulAuthor = list(map(lambda x: x.split(\":\")[1].split(','), text))\n",
    "beautifulAuthor"
   ]
  },
  {
   "cell_type": "code",
   "execution_count": 130,
   "metadata": {},
   "outputs": [
    {
     "name": "stdout",
     "output_type": "stream",
     "text": [
      "['Толстой: Война и мир\\n', 'Достоевский: Идиот, Преступление и наказание\\n', 'Чехов: Вишневый сад\\n', 'Булгаков: Собачье сердце, Мастер и Маргарита\\n', 'Пушкин: Каптинская дочка, Золотая рыбка\\n', 'Гоголь: Мертвые души\\n', 'Тургенев: Муму, Отцы и дети\\n', 'Лермонтов: Смерть поэта']\n",
      "{'Толстой': ['Война и мир. Символов в названии: 11'], 'Достоевский': ['Идиот. Символов в названии: 5', 'Преступление и наказание. Символов в названии: 24'], 'Чехов': ['Вишневый сад. Символов в названии: 12'], 'Булгаков': ['Собачье сердце. Символов в названии: 14', 'Мастер и Маргарита. Символов в названии: 18'], 'Пушкин': ['Каптинская дочка. Символов в названии: 16', 'Золотая рыбка. Символов в названии: 13'], 'Гоголь': ['Мертвые души. Символов в названии: 12'], 'Тургенев': ['Муму. Символов в названии: 4', 'Отцы и дети. Символов в названии: 11'], 'Лермонтов': ['Смерть поэта. Символов в названии: 12']}\n"
     ]
    }
   ],
   "source": [
    "#Раньше значения были с лишними пробелами и переносами, избавляемся от них при помощи map \n",
    "\n",
    "lenth = lambda x: str(len(x.strip()))\n",
    "\n",
    "with open(\"file.txt\", \"r\", encoding=\"utf-8\") as f:\n",
    "    fullText = f.readlines()\n",
    "    print(fullText)\n",
    "    dict = {}\n",
    "    for i in fullText:\n",
    "        key = i.split(\":\")\n",
    "        values = key[1].split(\",\")\n",
    "        clearValues = list(map(lambda x: x.strip() + \". Символов в названии: \" + lenth(x), values))\n",
    "        dict[key[0]] = clearValues\n",
    "    print(dict)    "
   ]
  }
 ],
 "metadata": {
  "kernelspec": {
   "display_name": "Python 3",
   "language": "python",
   "name": "python3"
  },
  "language_info": {
   "codemirror_mode": {
    "name": "ipython",
    "version": 3
   },
   "file_extension": ".py",
   "mimetype": "text/x-python",
   "name": "python",
   "nbconvert_exporter": "python",
   "pygments_lexer": "ipython3",
   "version": "3.11.5"
  }
 },
 "nbformat": 4,
 "nbformat_minor": 2
}
